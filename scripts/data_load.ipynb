{
 "cells": [
  {
   "cell_type": "code",
   "execution_count": null,
   "metadata": {},
   "outputs": [],
   "source": [
    "import pandas as pd\n",
    "import mysql.connector as msql\n",
    "from mysql.connector import Error"
   ]
  },
  {
   "cell_type": "code",
   "execution_count": null,
   "metadata": {},
   "outputs": [],
   "source": [
    "products= pd.read_csv('amazon_products.csv')"
   ]
  },
  {
   "cell_type": "code",
   "execution_count": null,
   "metadata": {},
   "outputs": [],
   "source": [
    "products.drop(columns=['imgUrl','productURL'],inplace=True)"
   ]
  },
  {
   "cell_type": "code",
   "execution_count": null,
   "metadata": {},
   "outputs": [],
   "source": [
    "products.dropna(inplace=True)"
   ]
  },
  {
   "cell_type": "code",
   "execution_count": null,
   "metadata": {},
   "outputs": [],
   "source": [
    "try: \n",
    "    conn = msql.connect(host='localhost', database='amazon', user='root', password='Ab123456@') \n",
    "    if conn.is_connected(): \n",
    "        cursor = conn.cursor() \n",
    "        cursor.execute(\"select database();\") \n",
    "        record = cursor.fetchone() \n",
    "        print(\"You're connected to database: \", record) \n",
    "        cursor.execute('DROP TABLE IF EXISTS amazon_products;') \n",
    "        #print('Creating table....') # in the below line please pass the create table statement which you want #to create \n",
    "        cursor.execute(\"CREATE TABLE amazon_products(asin varchar(255),title varchar(1000),stars varchar(10),reviews varchar(255),price varchar(255),listPrice varchar(255),category_id varchar(255),isBestSeller varchar(10),boughtInLastMonth varchar(255))\") \n",
    "        print(\"Table is created....\") #loop through the data frame \n",
    "        for i,row in products.iterrows(): #here %S means string values \n",
    "            sql = \"INSERT INTO amazon_products VALUES (%s,%s,%s,%s,%s,%s,%s,%s,%s)\" \n",
    "            cursor.execute(sql, tuple(row)) \n",
    "            # the connection is not auto committed by default, so we must commit to save our changes \n",
    "            conn.commit()\n",
    "        print(\"Records inserted\") \n",
    "except Error as e: print(\"Error while connecting to MySQL\", e)"
   ]
  },
  {
   "cell_type": "code",
   "execution_count": null,
   "metadata": {},
   "outputs": [],
   "source": [
    "categories = pd.read_csv('amazon_categories.csv')"
   ]
  },
  {
   "cell_type": "code",
   "execution_count": null,
   "metadata": {},
   "outputs": [],
   "source": [
    "try: \n",
    "    conn = msql.connect(host='localhost', database='amazon', user='root', password='Ab123456@') \n",
    "    if conn.is_connected(): \n",
    "        cursor = conn.cursor()\n",
    "        cursor.execute(\"select database();\") \n",
    "        record = cursor.fetchone() \n",
    "        print(\"You're connected to database: \", record) \n",
    "        cursor.execute('DROP TABLE IF EXISTS amazon_categories;')\n",
    "        cursor.execute(\"CREATE TABLE amazon_categories(id varchar(10),category_name varchar(255))\") \n",
    "        print(\"Table is created....\") #loop through the data frame \n",
    "        for i,row in categories.iterrows(): #here %S means string values \n",
    "            sql = \"INSERT INTO amazon_categories VALUES (%s,%s)\" \n",
    "            cursor.execute(sql, tuple(row)) \n",
    "            # the connection is not auto committed by default, so we must commit to save our changes \n",
    "            conn.commit()\n",
    "        print(\"Records inserted\") \n",
    "except Error as e: print(\"Error while connecting to MySQL\", e)"
   ]
  }
 ],
 "metadata": {
  "kernelspec": {
   "display_name": "Python 3",
   "language": "python",
   "name": "python3"
  },
  "language_info": {
   "codemirror_mode": {
    "name": "ipython",
    "version": 3
   },
   "file_extension": ".py",
   "mimetype": "text/x-python",
   "name": "python",
   "nbconvert_exporter": "python",
   "pygments_lexer": "ipython3",
   "version": "3.11.4"
  },
  "orig_nbformat": 4
 },
 "nbformat": 4,
 "nbformat_minor": 2
}
